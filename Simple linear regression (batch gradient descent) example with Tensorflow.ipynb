{
 "cells": [
  {
   "cell_type": "code",
   "execution_count": 219,
   "metadata": {
    "collapsed": true
   },
   "outputs": [],
   "source": [
    "### Cell 0 ###\n",
    "### Imports ###\n",
    "\n",
    "import numpy as np\n",
    "import tensorflow as tf"
   ]
  },
  {
   "cell_type": "code",
   "execution_count": 220,
   "metadata": {
    "collapsed": false
   },
   "outputs": [],
   "source": [
    "### Cell 1 ###\n",
    "### Data generation and normalization ###\n",
    "\n",
    "train_size = 3000\n",
    "valid_size = 1000\n",
    "test_size = 1000\n",
    "\n",
    "# y = k * x + b\n",
    "k = 2\n",
    "b = 5\n",
    "\n",
    "# It is important to properly shuffle the training data -- failure to do so may result in SGD diverging.\n",
    "\n",
    "# From 0 to 10, uniformly distributed values.\n",
    "train_x = (10 * np.random.rand(train_size)).astype(np.float32).reshape((train_size, -1))\n",
    "train_y = (k * train_x + b + 0.01 * np.random.randn()).reshape((train_size, -1))\n",
    "valid_x = (10 * np.random.rand(valid_size)).astype(np.float32).reshape((valid_size, -1))\n",
    "valid_y = (k * valid_x + b + 0.01 * np.random.randn()).reshape((valid_size, -1))\n",
    "test_x = (10 * np.random.rand(test_size)).astype(np.float32).reshape((test_size, -1))\n",
    "test_y = (k * test_x + b + 0.01 * np.random.randn()).reshape((test_size, -1))\n",
    "\n",
    "# Rescale to [-1; 1]\n",
    "def normalize(arr):\n",
    "    return (arr - np.mean(arr)) / (np.max(arr) - np.min(arr))\n",
    "train_x = normalize(train_x)\n",
    "train_y = normalize(train_y)\n",
    "valid_x = normalize(valid_x)\n",
    "valid_y = normalize(valid_y)\n",
    "test_x = normalize(test_x)\n",
    "test_y = normalize(test_y)"
   ]
  },
  {
   "cell_type": "code",
   "execution_count": 221,
   "metadata": {
    "collapsed": false
   },
   "outputs": [],
   "source": [
    "### Cell 2 ###\n",
    "### TensorFlow Graph definition ###\n",
    "\n",
    "batch_size = 300\n",
    "learning_rate = 0.00001\n",
    "\n",
    "graph = tf.Graph()\n",
    "with graph.as_default():\n",
    "    tf_train_dataset = tf.placeholder(tf.float32, shape=(batch_size, train_x.shape[1]))\n",
    "    tf_train_labels = tf.placeholder(tf.float32, shape=(batch_size, train_y.shape[1]))\n",
    "    tf_valid_dataset = tf.constant(valid_x)\n",
    "    tf_test_dataset = tf.constant(test_x)\n",
    "    \n",
    "    weights = tf.Variable([[0.]])\n",
    "    biases = tf.Variable([[0.]])\n",
    "  \n",
    "    # Training step computation.\n",
    "    logits = tf.matmul(tf_train_dataset, weights) + biases\n",
    "    loss = tf.nn.l2_loss(logits - tf_train_labels) / batch_size\n",
    "  \n",
    "    optimizer = tf.train.GradientDescentOptimizer(learning_rate).minimize(loss)\n",
    "\n",
    "    train_prediction = tf.matmul(tf_train_dataset, weights) + biases\n",
    "    valid_prediction = tf.matmul(tf_valid_dataset, weights) + biases\n",
    "    test_prediction = tf.matmul(tf_test_dataset, weights) + biases"
   ]
  },
  {
   "cell_type": "code",
   "execution_count": 223,
   "metadata": {
    "collapsed": false
   },
   "outputs": [
    {
     "name": "stdout",
     "output_type": "stream",
     "text": [
      "Batch loss at step 0: 0.04324540\n",
      "Validation loss at step 0: 0.04231153\n",
      "\n",
      "Batch loss at step 20: 0.04041901\n",
      "Validation loss at step 20: 0.04231017\n",
      "\n",
      "Batch loss at step 40: 0.04135164\n",
      "Validation loss at step 40: 0.04230875\n",
      "\n",
      "Batch loss at step 60: 0.03924545\n",
      "Validation loss at step 60: 0.04230731\n",
      "\n",
      "Batch loss at step 80: 0.04350670\n",
      "Validation loss at step 80: 0.04230596\n",
      "\n",
      "Batch loss at step 100: 0.04647830\n",
      "Validation loss at step 100: 0.04230455\n",
      "\n",
      "Batch loss at step 120: 0.04147103\n",
      "Validation loss at step 120: 0.04230314\n",
      "\n",
      "Batch loss at step 140: 0.04134494\n",
      "Validation loss at step 140: 0.04230171\n",
      "\n",
      "Batch loss at step 160: 0.03719819\n",
      "Validation loss at step 160: 0.04230027\n",
      "\n",
      "Batch loss at step 180: 0.04323247\n",
      "Validation loss at step 180: 0.04229889\n",
      "\n",
      "Batch loss at step 200: 0.04040691\n",
      "Validation loss at step 200: 0.04229748\n",
      "\n",
      "Batch loss at step 220: 0.04133923\n",
      "Validation loss at step 220: 0.04229609\n",
      "\n",
      "Batch loss at step 240: 0.03923370\n",
      "Validation loss at step 240: 0.04229467\n",
      "\n",
      "Batch loss at step 260: 0.04349369\n",
      "Validation loss at step 260: 0.04229325\n",
      "\n",
      "Batch loss at step 280: 0.04646440\n",
      "Validation loss at step 280: 0.04229185\n",
      "\n",
      "Batch loss at step 300: 0.04145857\n",
      "Validation loss at step 300: 0.04229045\n",
      "\n",
      "Batch loss at step 320: 0.04133258\n",
      "Validation loss at step 320: 0.04228904\n",
      "\n",
      "Batch loss at step 340: 0.03718704\n",
      "Validation loss at step 340: 0.04228763\n",
      "\n",
      "Batch loss at step 360: 0.04321953\n",
      "Validation loss at step 360: 0.04228622\n",
      "\n",
      "Batch loss at step 380: 0.04039479\n",
      "Validation loss at step 380: 0.04228479\n",
      "\n",
      "Batch loss at step 400: 0.04132683\n",
      "Validation loss at step 400: 0.04228339\n",
      "\n",
      "Batch loss at step 420: 0.03922193\n",
      "Validation loss at step 420: 0.04228200\n",
      "\n",
      "Batch loss at step 440: 0.04348069\n",
      "Validation loss at step 440: 0.04228058\n",
      "\n",
      "Batch loss at step 460: 0.04645053\n",
      "Validation loss at step 460: 0.04227917\n",
      "\n",
      "Batch loss at step 480: 0.04144612\n",
      "Validation loss at step 480: 0.04227778\n",
      "\n",
      "Test loss: 0.04289276\n"
     ]
    }
   ],
   "source": [
    "### Cell 3 ###\n",
    "### Run and evaluate ###\n",
    "\n",
    "num_steps = 500\n",
    "\n",
    "with tf.Session(graph=graph) as session:\n",
    "    tf.initialize_all_variables().run()\n",
    "    for step in range(num_steps):\n",
    "        # Training data are randomized.\n",
    "        offset = (step * batch_size) % (train_y.shape[0] - batch_size)\n",
    "        batch_data = train_x[offset:(offset + batch_size), :]\n",
    "        batch_labels = train_y[offset:(offset + batch_size), :]\n",
    "        feed_dict = {tf_train_dataset : batch_data, tf_train_labels : batch_labels}\n",
    "        _, l, predictions = session.run([optimizer, loss, train_prediction], feed_dict=feed_dict)\n",
    "        if (step % 20 == 0):\n",
    "            print(\"Batch loss at step %d: %.8f\" % (step, l))\n",
    "            print(\"Validation loss at step %d: %.8f\\n\" % (step, ((sum((valid_prediction.eval() - valid_y) ** 2)) / valid_size / 2.)))\n",
    "    print(\"Test loss: %.8f\" % (sum((test_prediction.eval() - test_y) ** 2) / test_size / 2.))"
   ]
  },
  {
   "cell_type": "code",
   "execution_count": null,
   "metadata": {
    "collapsed": true
   },
   "outputs": [],
   "source": []
  }
 ],
 "metadata": {
  "kernelspec": {
   "display_name": "Python 2",
   "language": "python",
   "name": "python2"
  },
  "language_info": {
   "codemirror_mode": {
    "name": "ipython",
    "version": 2
   },
   "file_extension": ".py",
   "mimetype": "text/x-python",
   "name": "python",
   "nbconvert_exporter": "python",
   "pygments_lexer": "ipython2",
   "version": "2.7.12"
  }
 },
 "nbformat": 4,
 "nbformat_minor": 0
}
